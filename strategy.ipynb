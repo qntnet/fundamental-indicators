{
 "cells": [
  {
   "cell_type": "markdown",
   "metadata": {},
   "source": [
    "# Prepared fundamental data"
   ]
  },
  {
   "cell_type": "markdown",
   "metadata": {},
   "source": [
    "#### Import basic libraries"
   ]
  },
  {
   "cell_type": "code",
   "execution_count": null,
   "metadata": {},
   "outputs": [],
   "source": [
    "# Please refer to xarray.pydata.org for xarray documentation.\n",
    "\n",
    "# xarray works optimally with N-dimensional datasets in Python\n",
    "# and is well suited for financial datasets with labels \"time\",\n",
    "# \"field\" and \"asset\". xarray data structures can also be easily\n",
    "# converted to pandas dataframes.\n",
    "\n",
    "import xarray as xr\n",
    "import numpy as np\n",
    "import pandas as pd\n",
    "\n",
    "# Import quantnet libraries.\n",
    "import qnt.data    as qndata\n",
    "import qnt.stepper as qnstepper\n",
    "import qnt.stats   as qnstats\n",
    "import qnt.graph   as qngraph\n",
    "import qnt.forward_looking as qnfl\n",
    "import datetime    as dt\n",
    "import itertools\n",
    "import qnt.data.secgov_indicators\n",
    "from qnt.neutralization import neutralize\n",
    "from qnt.data.secgov_indicators import InstantIndicatorBuilder, PeriodIndicatorBuilder"
   ]
  },
  {
   "cell_type": "markdown",
   "metadata": {},
   "source": [
    "#### Load assets and market data"
   ]
  },
  {
   "cell_type": "code",
   "execution_count": null,
   "metadata": {},
   "outputs": [],
   "source": [
    "# Load all available asset names since the given date.\n",
    "assets = qndata.load_assets(tail=dt.timedelta(days=5*365))\n",
    "assets_names = [i[\"id\"] for i in assets]\n",
    "\n",
    "# A submission will be accepted only if no max_date is set,\n",
    "# as submissions will be evaluated on live data on a daily basis.\n",
    "data = qndata.load_data(tail=dt.timedelta(days=5*365),\n",
    "                        dims=(\"time\", \"field\", \"asset\"),\n",
    "                        assets=assets_names,\n",
    "                        forward_order=True)\n",
    "\n",
    "# We trade only liquid stocks\n",
    "is_liquid = data.loc[:,\"is_liquid\",:]\n",
    "\n",
    "# replace zeros in liquid with NaN\n",
    "index = np.array(abs(is_liquid - 1),dtype = bool)\n",
    "is_liquid.to_pandas()[index] = np.nan"
   ]
  },
  {
   "cell_type": "markdown",
   "metadata": {},
   "source": [
    "#### Load fundamental data"
   ]
  },
  {
   "cell_type": "markdown",
   "metadata": {},
   "source": [
    "We have collected and processed a large amount of fundamental data for users. One can find the list of prepared data [here](https://quantnet.ai/learn/:availableData_Table). Below are two ways to download prepared data.\n",
    "\n",
    "Also, users can extract and prepare fundamental data by [themselves](https://quantnet.ai/referee/template/14261914/html)."
   ]
  },
  {
   "cell_type": "code",
   "execution_count": null,
   "metadata": {},
   "outputs": [],
   "source": [
    "# The first way is just to list the desired data labels.\n",
    "\n",
    "# Let's say we have a list of desired fundamental data\n",
    "data_lbls = ['assets', 'liabilities', 'operating_expense', 'ivestment_short_term']\n",
    "\n",
    "# One can load corresponding data\n",
    "fun_data1 = qnt.data.secgov_load_indicators(assets,time_coord = data.time, standard_indicators = data_lbls)"
   ]
  },
  {
   "cell_type": "code",
   "execution_count": null,
   "metadata": {},
   "outputs": [],
   "source": [
    "# The second way to load fundamental data.\n",
    "\n",
    "# One can make their own builder that takes a name and a list of desired us:gaap tickets. \n",
    "\n",
    "# Some indicators are instant and updated regularly within each report\n",
    "instant_data_list = [InstantIndicatorBuilder('assets' , ['us-gaap:Assets'], True), \n",
    "                     InstantIndicatorBuilder('liabilities', ['us-gaap:Liabilities'], True),\n",
    "                    InstantIndicatorBuilder('shares', ['us-gaap:CommonStockSharesOutstanding', \n",
    "                                                       'us-gaap:CommonStockSharesIssued'], True)]\n",
    "\n",
    "\n",
    "# Others are periodical and correspond to a certain period. For example, operating expenses and sales.\n",
    "\n",
    "# For periodical indicators, you can receive information with the quarter, annual frequency, or 'last twelve month' value.\n",
    "# For these purposes put 'qf','af' or 'ltm' correspondingly:\n",
    "\n",
    "period_data_list = [PeriodIndicatorBuilder('operating_expense', ['us-gaap:OperatingExpenses'], True, 'qf'),\n",
    "                   PeriodIndicatorBuilder('sales_revenue', ['us-gaap:SalesRevenueGoodsNet',\n",
    "                                                            'us-gaap:SalesRevenueNet',\n",
    "                                                            'us-gaap:RevenueFromContractWithCustomerIncludingAssessedTax'\n",
    "                                                           ], True, 'af'),\n",
    "                    PeriodIndicatorBuilder('sga_expense', ['us-gaap:SellingGeneralAndAdministrativeExpense'], True, 'ltm')]\n",
    "\n",
    "# For the first way to load data, 'ltm' set as default!\n",
    "\n",
    "# Load data\n",
    "# fun_data2 = qnt.data.secgov_load_indicators(assets,time_coord = data.time, period_data_list)"
   ]
  },
  {
   "cell_type": "markdown",
   "metadata": {},
   "source": [
    "### Weights allocation"
   ]
  },
  {
   "cell_type": "code",
   "execution_count": null,
   "metadata": {},
   "outputs": [],
   "source": [
    "# In order to estimate Sharpe for a number of algorithms\n",
    "def estimate_sharpe(weights_final):\n",
    "    stat = qnstats.calc_stat(data, weights_final, slippage_factor=0.05)\n",
    "    days = len(stat.coords[\"time\"])\n",
    "    returns = stat.loc[:, \"relative_return\"]\n",
    "    \n",
    "    sharpe_ratio = qnstats.calc_sharpe_ratio_annualized(\n",
    "        returns,\n",
    "        max_periods=days,\n",
    "        min_periods=days).to_pandas().values[-1]\n",
    "    \n",
    "    print(f'Sharpe ratio = {sharpe_ratio}')"
   ]
  },
  {
   "cell_type": "code",
   "execution_count": null,
   "metadata": {},
   "outputs": [],
   "source": [
    "# Let's check an idea - invest more for operating expenses\n",
    "# Operating expenses include marketing, noncapitalized R&D, travel and entertainment, office supply, rent, salary, cogs...\n",
    "weights = fun_data1.sel(field = 'operating_expense')\n",
    "\n",
    "# We trade only liquid stocks\n",
    "weights = weights*is_liquid\n",
    "\n",
    "# estimate sharpe ratio\n",
    "estimate_sharpe(weights)"
   ]
  },
  {
   "cell_type": "markdown",
   "metadata": {},
   "source": [
    "We can reduce risks by [neutralizing](https://quantnet.ai/learn/:neutralization) weights. \n",
    "\n",
    "This means that the total amount of funds invested in the market is zero. The algorithm becomes independent of the general up / down trend of the market. This is important to avoid losses associated with the crisis."
   ]
  },
  {
   "cell_type": "code",
   "execution_count": null,
   "metadata": {},
   "outputs": [],
   "source": [
    "# the strategy now is market neutral:\n",
    "weights = fun_data1.sel(field = 'operating_expense')*is_liquid\n",
    "weights = weights/abs(weights).sum('asset')\n",
    "weights1 = -neutralize(weights,assets,group = 'market')\n",
    "\n",
    "estimate_sharpe(weights1)"
   ]
  },
  {
   "cell_type": "markdown",
   "metadata": {},
   "source": [
    "If the Sharpe ratio is low, sometimes it is reasonable to combine several signals in one algorithm."
   ]
  },
  {
   "cell_type": "code",
   "execution_count": null,
   "metadata": {},
   "outputs": [],
   "source": [
    "# the second signal\n",
    "weights = fun_data1.sel(field = 'ivestment_short_term')*is_liquid\n",
    "weights = weights/abs(weights).sum('asset')\n",
    "weights2 = neutralize(weights,assets,group = 'market')\n",
    "\n",
    "estimate_sharpe(weights2)"
   ]
  },
  {
   "cell_type": "code",
   "execution_count": null,
   "metadata": {},
   "outputs": [],
   "source": [
    "# combined signals in one algorithm.\n",
    "output = weights1+ weights2\n",
    "output = output/abs(output).sum('asset')\n",
    "estimate_sharpe(output)"
   ]
  },
  {
   "cell_type": "markdown",
   "metadata": {},
   "source": [
    "### Statistics"
   ]
  },
  {
   "cell_type": "code",
   "execution_count": null,
   "metadata": {},
   "outputs": [],
   "source": [
    "def print_stat(stat):\n",
    "    \"\"\"Prints selected statistical key indicators:\n",
    "       - the global Sharpe ratio of the strategy;\n",
    "       - the global mean profit;\n",
    "       - the global volatility;\n",
    "       - the maximum drawdown.\n",
    "\n",
    "       Note that Sharpe ratio, mean profit and volatility\n",
    "       apply to  max simulation period, and not to the\n",
    "       rolling basis of 3 years.\n",
    "    \"\"\"\n",
    "\n",
    "    days = len(stat.coords[\"time\"])\n",
    "    \n",
    "    returns = stat.loc[:, \"relative_return\"]\n",
    "\n",
    "    equity = stat.loc[:, \"equity\"]\n",
    "    \n",
    "    sharpe_ratio = qnstats.calc_sharpe_ratio_annualized(\n",
    "        returns,\n",
    "        max_periods=days,\n",
    "        min_periods=days).to_pandas().values[-1]\n",
    "\n",
    "    profit = (qnstats.calc_mean_return_annualized(\n",
    "        returns,\n",
    "        max_periods=days,\n",
    "        min_periods=days).to_pandas().values[-1])*100.0\n",
    "\n",
    "    volatility = (qnstats.calc_volatility_annualized(\n",
    "        returns,\n",
    "        max_periods=days,\n",
    "        min_periods=days).to_pandas().values[-1])*100.0\n",
    "\n",
    "    max_ddown = (qnstats.calc_max_drawdown(\n",
    "        qnstats.calc_underwater(equity)).to_pandas().values[-1])*100.0\n",
    "\n",
    "    print(\"Sharpe Ratio         : \", \"{0:.3f}\".format(sharpe_ratio))\n",
    "    print(\"Mean Return [%]      : \", \"{0:.3f}\".format(profit))\n",
    "    print(\"Volatility [%]       : \", \"{0:.3f}\".format(volatility))\n",
    "    print(\"Maximum Drawdown [%] : \", \"{0:.3f}\".format(-max_ddown))"
   ]
  },
  {
   "cell_type": "code",
   "execution_count": null,
   "metadata": {},
   "outputs": [],
   "source": [
    "stat = qnstats.calc_stat(data, output, slippage_factor=0.05)\n",
    "print_stat(stat)"
   ]
  },
  {
   "cell_type": "code",
   "execution_count": null,
   "metadata": {},
   "outputs": [],
   "source": [
    "# show plot with profit and losses:\n",
    "performance = stat.to_pandas()[\"equity\"].iloc[:]\n",
    "qngraph.make_plot_filled(performance.index, performance, name=\"PnL (Equity)\", type=\"log\")"
   ]
  },
  {
   "cell_type": "code",
   "execution_count": null,
   "metadata": {},
   "outputs": [],
   "source": [
    "# Check correlation\n",
    "qnstats.print_correlation(output, data)"
   ]
  },
  {
   "cell_type": "code",
   "execution_count": null,
   "metadata": {},
   "outputs": [],
   "source": [
    "qndata.write_output(output)"
   ]
  }
 ],
 "metadata": {
  "kernelspec": {
   "display_name": "Python 3",
   "language": "python",
   "name": "python3"
  },
  "language_info": {
   "codemirror_mode": {
    "name": "ipython",
    "version": 3
   },
   "file_extension": ".py",
   "mimetype": "text/x-python",
   "name": "python",
   "nbconvert_exporter": "python",
   "pygments_lexer": "ipython3",
   "version": "3.7.7"
  }
 },
 "nbformat": 4,
 "nbformat_minor": 2
}
